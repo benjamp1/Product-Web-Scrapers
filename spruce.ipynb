{
 "cells": [
  {
   "cell_type": "markdown",
   "metadata": {},
   "source": [
    "# Content & Image Trawling \n",
    "## <i> Using Spruce </i> \n",
    "## version 1.0 "
   ]
  },
  {
   "cell_type": "code",
   "execution_count": 1,
   "metadata": {},
   "outputs": [],
   "source": [
    "sites = {\"TomsHW\":\"http://Tomshardware.Com\", \"CNET\":\"http://cnet.com\",\"Verge\":\"http://TheVerge.com\"}"
   ]
  },
  {
   "cell_type": "code",
   "execution_count": 2,
   "metadata": {},
   "outputs": [],
   "source": [
    "from bs4 import BeautifulSoup\n",
    "import requests\n",
    "import pandas as pd\n",
    "\n",
    "def toms_search(search_term): \n",
    "    url = \"http://TomsHardware.com\"\n",
    "\n",
    "    #Build out toms hardwar URL \n",
    "    #   Example for washing machines: https://www.tomshardware.com/search?searchTerm=Washing+Machine\n",
    "\n",
    "    search_term = search_term.replace(\" \", \"+\")\n",
    "    search_term = url + \"/search?searchTerm=\" + search_term \n",
    "    return search_term \n",
    "\n",
    "def spruce_search_bestlinks(search_term): \n",
    "    ## Example: https://www.thespruce.com/search?q=Washing%20Machine&offset=24\n",
    "    url = 'https://www.thespruce.com/'\n",
    "    search_term = search_term.replace(\" \", \"+\")\n",
    "    search_url = url + \"/search?q=\" + search_term \n",
    "\n",
    "    #Pull out the search results \n",
    "    src = requests.get(search_url).text \n",
    "    soup = BeautifulSoup(src, 'html.parser')\n",
    "\n",
    "    link_list = []\n",
    "    for item in  soup.find_all(\"div\", {\"class\": \"comp search-layout-container mntl-block\"}):\n",
    "        for link in item.find_all('a'):\n",
    "            link_list.append(link.get('href')) \n",
    "    \n",
    "    #\"the 'best' reviews will start with /best-\n",
    "    search_list = []\n",
    "    for link in link_list:\n",
    "        if ('/best-' in str(link).lower()): search_list.append(link)\n",
    "\n",
    "\n",
    "    return search_list  \n",
    "    #Look for something like \"The XXX Best <Search Term>s of 2020\"\n",
    "    #   This will return results in 24 blocks\n",
    "    #   Next page is like https://www.thespruce.com/search?q=Washing%20Machine&offset=24 \n",
    "\n",
    "def spruce_search_top_pics(search_url_spruce):\n",
    "    src = requests.get(search_url_spruce).text \n",
    "    soup = BeautifulSoup(src, 'html.parser')\n",
    "    #The \"Our Top Pics are in the class: 'comp mntl-sc-block-callout-body mntl-text-block'\"\n",
    "    item_cat=[]\n",
    "    item_name=[]\n",
    "    item_source=[]\n",
    "    item_link=[]\n",
    "    \n",
    "\n",
    "    #Print out the title \n",
    "    try:\n",
    "        print (soup.find_all('h1')[0].text)\n",
    "    except: \n",
    "        print (\"No Title Found\")\n",
    "\n",
    "    for item in  soup.find_all(\"div\", {\"class\": \"comp mntl-sc-block-callout-body mntl-text-block\"}):\n",
    "        #The category is in the \"Strong\"\n",
    "        #print (\"Looking for the top categoies\")\n",
    "        try: \n",
    "            for strong in item.find_all('strong'): \n",
    "                #\"this is the \"Best for\" category\n",
    "                item_str = str(strong.contents[0])\n",
    "                #So these cateogies tend to start with \"Best\"\n",
    "                if 'best' in item_str.lower():\n",
    "                    item_str   = item_str.replace(\":\",\"\")\n",
    "                    item_cat.append(item_str)\n",
    "        except: print(\"No Strong contents found\")\n",
    "        #Look for the affilate link\n",
    "        #print(\"Looking for links\")\n",
    "        try: \n",
    "            for link in (item.find_all('a', href=True, attrs={'data-source':'affiliate'}) + \n",
    "            item.find_all('a', href=True, attrs={'data-source':'inlineLink'})):\n",
    "                        #print('------------')\n",
    "                        #print(link)\n",
    "                        #print(link.contents[0])\n",
    "                        #Add the name, remove 'at Amazon' if it is there\n",
    "                        item_name.append(str(link.contents[0]).replace(\"at Amazon\", \"\"))\n",
    "                        #print(link['href'])\n",
    "                        #Add their affilate link\n",
    "                        item_link.append(link['href'])\n",
    "                        #Att the source \n",
    "                        item_source.append(link['data-component'])\n",
    "        except: print(\"Nothing found\")\n",
    "    #Only get as many cats as they are \n",
    "    cat_count = len(item_cat)\n",
    "    data = {'Name':item_name[0:cat_count-1],\n",
    "            'Cat':item_cat[0:cat_count-1],\n",
    "            'Source':item_source[0:cat_count-1],\n",
    "            'Link':item_link[0:cat_count-1]} \n",
    "    #df = pd.DataFrame(data)\n",
    "    return pd.DataFrame(data)\n",
    "   # return data\n",
    "\n",
    "def get_table_spruce(item_name): \n",
    "    try:\n",
    "        top_link = spruce_search_bestlinks(item_name)[0]\n",
    "        df = spruce_search_top_pics(top_link)\n",
    "    except: \n",
    "        print (\"Didn't find anything\")\n",
    "        return  \n",
    "    return df"
   ]
  },
  {
   "cell_type": "code",
   "execution_count": 3,
   "metadata": {
    "tags": []
   },
   "outputs": [
    {
     "output_type": "execute_result",
     "data": {
      "text/plain": "['https://www.thespruce.com/best-doorbell-cameras-4147384',\n 'https://www.thespruce.com/best-home-security-companies-4692680',\n 'https://www.thespruce.com/best-wireless-doorbells-4178455',\n 'https://www.thespruce.com/best-diy-home-security-systems-4143582',\n 'https://www.thespruce.com/best-science-toys-4150533']"
     },
     "metadata": {},
     "execution_count": 3
    }
   ],
   "source": [
    "#For example. Lets look for the best doorbell cams \n",
    "search_list = spruce_search_bestlinks('doorbell camera')\n",
    "search_list "
   ]
  },
  {
   "cell_type": "code",
   "execution_count": 4,
   "metadata": {
    "tags": []
   },
   "outputs": [
    {
     "output_type": "stream",
     "name": "stdout",
     "text": "The 7 Best Trivia Games of 2020\n"
    },
    {
     "output_type": "execute_result",
     "data": {
      "text/plain": "                             Name                        Cat  Source  \\\n0                      Smart Ass            Best for Groups   amazon   \n1                Trivial Pursuit               Best Classic   amazon   \n2  Professor Noggin's Card Games              Best for Kids   amazon   \n3            Best of TV & Movies   Best TV and Movie Trivia   amazon   \n4   iKNOW Innovative Trivia Game              Best Strategy   amazon   \n\n                                                Link  \n0  https://www.amazon.com/University-Games-1360-S...  \n1  https://www.amazon.com/Trivial-Pursuit-Game-Cl...  \n2  https://www.amazon.com/Professor-Noggins-Histo...  \n3  https://www.amazon.com/Spin-Master-Games-Movie...  \n4  https://www.amazon.com/Tactic-Games-US-52658-I...  ",
      "text/html": "<div>\n<style scoped>\n    .dataframe tbody tr th:only-of-type {\n        vertical-align: middle;\n    }\n\n    .dataframe tbody tr th {\n        vertical-align: top;\n    }\n\n    .dataframe thead th {\n        text-align: right;\n    }\n</style>\n<table border=\"1\" class=\"dataframe\">\n  <thead>\n    <tr style=\"text-align: right;\">\n      <th></th>\n      <th>Name</th>\n      <th>Cat</th>\n      <th>Source</th>\n      <th>Link</th>\n    </tr>\n  </thead>\n  <tbody>\n    <tr>\n      <th>0</th>\n      <td>Smart Ass</td>\n      <td>Best for Groups</td>\n      <td>amazon</td>\n      <td>https://www.amazon.com/University-Games-1360-S...</td>\n    </tr>\n    <tr>\n      <th>1</th>\n      <td>Trivial Pursuit</td>\n      <td>Best Classic</td>\n      <td>amazon</td>\n      <td>https://www.amazon.com/Trivial-Pursuit-Game-Cl...</td>\n    </tr>\n    <tr>\n      <th>2</th>\n      <td>Professor Noggin's Card Games</td>\n      <td>Best for Kids</td>\n      <td>amazon</td>\n      <td>https://www.amazon.com/Professor-Noggins-Histo...</td>\n    </tr>\n    <tr>\n      <th>3</th>\n      <td>Best of TV &amp; Movies</td>\n      <td>Best TV and Movie Trivia</td>\n      <td>amazon</td>\n      <td>https://www.amazon.com/Spin-Master-Games-Movie...</td>\n    </tr>\n    <tr>\n      <th>4</th>\n      <td>iKNOW Innovative Trivia Game</td>\n      <td>Best Strategy</td>\n      <td>amazon</td>\n      <td>https://www.amazon.com/Tactic-Games-US-52658-I...</td>\n    </tr>\n  </tbody>\n</table>\n</div>"
     },
     "metadata": {},
     "execution_count": 4
    }
   ],
   "source": [
    "spruce_search_top_pics('https://www.thespruce.com/best-trivia-games-4164628')"
   ]
  },
  {
   "cell_type": "code",
   "execution_count": 5,
   "metadata": {},
   "outputs": [
    {
     "output_type": "error",
     "ename": "NameError",
     "evalue": "name 'diction' is not defined",
     "traceback": [
      "\u001b[1;31m---------------------------------------------------------------------------\u001b[0m",
      "\u001b[1;31mNameError\u001b[0m                                 Traceback (most recent call last)",
      "\u001b[1;32m<ipython-input-5-6c6674cc51b0>\u001b[0m in \u001b[0;36m<module>\u001b[1;34m\u001b[0m\n\u001b[1;32m----> 1\u001b[1;33m \u001b[0mdiction\u001b[0m\u001b[1;33m\u001b[0m\u001b[1;33m\u001b[0m\u001b[0m\n\u001b[0m",
      "\u001b[1;31mNameError\u001b[0m: name 'diction' is not defined"
     ]
    }
   ],
   "source": [
    "diction"
   ]
  },
  {
   "cell_type": "code",
   "execution_count": 6,
   "metadata": {
    "tags": []
   },
   "outputs": [
    {
     "output_type": "stream",
     "name": "stdout",
     "text": "The 8 Best Doorbell Cameras of 2020\n"
    },
    {
     "output_type": "execute_result",
     "data": {
      "text/plain": "                                                Name  \\\n0                             Ring Video Doorbell 3    \n1              Ring Video Doorbell Pro at Home Depot   \n2  Google Nest Hello Smart WiFi Video Doorbell at...   \n3                      Arlo Video Doorbell at Target   \n4          SimpliSafe Video Doorbell Pro at Best Buy   \n5          Eufy Security Video Doorbell at Eufy Life   \n6     RemoBell S Smart Doorbell Camera at Home Depot   \n\n                        Cat  Source  \\\n0             Best Overall   amazon   \n1                Best WiFi     link   \n2            Best Wireless     link   \n3    Best Motion Detection     link   \n4       Best with Security     link   \n5             Best Privacy     link   \n6  Best Smart Home-Enabled     link   \n\n                                                Link  \n0  https://www.amazon.com/dp/B0849J7W5X/?tag=thes...  \n1  https://www.homedepot.com/p/Ring-1080P-HD-Wi-F...  \n2  https://www.homedepot.com/p/Google-Nest-Hello-...  \n3  https://www.target.com/p/arlo-video-doorbell/-...  \n4  https://www.bestbuy.com/site/simplisafe-pro-vi...  \n5  https://www.eufylife.com/products/variant/vide...  \n6  https://www.homedepot.com/p/remo-RemoBell-S-Sm...  ",
      "text/html": "<div>\n<style scoped>\n    .dataframe tbody tr th:only-of-type {\n        vertical-align: middle;\n    }\n\n    .dataframe tbody tr th {\n        vertical-align: top;\n    }\n\n    .dataframe thead th {\n        text-align: right;\n    }\n</style>\n<table border=\"1\" class=\"dataframe\">\n  <thead>\n    <tr style=\"text-align: right;\">\n      <th></th>\n      <th>Name</th>\n      <th>Cat</th>\n      <th>Source</th>\n      <th>Link</th>\n    </tr>\n  </thead>\n  <tbody>\n    <tr>\n      <th>0</th>\n      <td>Ring Video Doorbell 3</td>\n      <td>Best Overall</td>\n      <td>amazon</td>\n      <td>https://www.amazon.com/dp/B0849J7W5X/?tag=thes...</td>\n    </tr>\n    <tr>\n      <th>1</th>\n      <td>Ring Video Doorbell Pro at Home Depot</td>\n      <td>Best WiFi</td>\n      <td>link</td>\n      <td>https://www.homedepot.com/p/Ring-1080P-HD-Wi-F...</td>\n    </tr>\n    <tr>\n      <th>2</th>\n      <td>Google Nest Hello Smart WiFi Video Doorbell at...</td>\n      <td>Best Wireless</td>\n      <td>link</td>\n      <td>https://www.homedepot.com/p/Google-Nest-Hello-...</td>\n    </tr>\n    <tr>\n      <th>3</th>\n      <td>Arlo Video Doorbell at Target</td>\n      <td>Best Motion Detection</td>\n      <td>link</td>\n      <td>https://www.target.com/p/arlo-video-doorbell/-...</td>\n    </tr>\n    <tr>\n      <th>4</th>\n      <td>SimpliSafe Video Doorbell Pro at Best Buy</td>\n      <td>Best with Security</td>\n      <td>link</td>\n      <td>https://www.bestbuy.com/site/simplisafe-pro-vi...</td>\n    </tr>\n    <tr>\n      <th>5</th>\n      <td>Eufy Security Video Doorbell at Eufy Life</td>\n      <td>Best Privacy</td>\n      <td>link</td>\n      <td>https://www.eufylife.com/products/variant/vide...</td>\n    </tr>\n    <tr>\n      <th>6</th>\n      <td>RemoBell S Smart Doorbell Camera at Home Depot</td>\n      <td>Best Smart Home-Enabled</td>\n      <td>link</td>\n      <td>https://www.homedepot.com/p/remo-RemoBell-S-Sm...</td>\n    </tr>\n  </tbody>\n</table>\n</div>"
     },
     "metadata": {},
     "execution_count": 6
    }
   ],
   "source": [
    "get_table_spruce(\"doorbell camera\")"
   ]
  },
  {
   "cell_type": "code",
   "execution_count": 7,
   "metadata": {
    "tags": []
   },
   "outputs": [
    {
     "output_type": "execute_result",
     "data": {
      "text/plain": "'https://www.thespruce.com/best-doorbell-cameras-4147384'"
     },
     "metadata": {},
     "execution_count": 7
    }
   ],
   "source": [
    "\n",
    "spruce_search_bestlinks('Doorbell Cameras')[0]"
   ]
  },
  {
   "cell_type": "code",
   "execution_count": 8,
   "metadata": {
    "tags": []
   },
   "outputs": [
    {
     "output_type": "stream",
     "name": "stdout",
     "text": "The 8 Best Doorbell Cameras of 2020\n"
    }
   ],
   "source": [
    "diction = spruce_search_top_pics('https://www.thespruce.com/best-doorbell-cameras-4147384')"
   ]
  },
  {
   "cell_type": "code",
   "execution_count": 9,
   "metadata": {
    "tags": []
   },
   "outputs": [
    {
     "output_type": "stream",
     "name": "stdout",
     "text": "The 8 Best Wall Clocks of 2020\n"
    },
    {
     "output_type": "execute_result",
     "data": {
      "text/plain": "                                                Name  \\\n0    La Crosse Technology 14-Inch Atomic Wall Clock    \n1        Bernhard Products 10-Inch Black Wall Clock    \n2      Infinity Instruments Orange Retro Wall Clock    \n3             Seiko Wall Pendulum Schoolhouse Clock    \n4                           Umbra Ribbon Wall Clock    \n5      Latitude Run Soltis 16\" Wall Clock at Wayfair   \n6  Laurel Foundry Modern Farmhouse 30\" Wall Clock...   \n\n                         Cat  Source  \\\n0              Best Overall   amazon   \n1               Best Budget   amazon   \n2       Best for the Office   amazon   \n3      Best for the Kitchen   amazon   \n4  Best for the Dining Room   amazon   \n5      Best for Living Room     link   \n6         Best for Bathroom     link   \n\n                                                Link  \n0  https://www.amazon.com/Crosse-Technology-WT-31...  \n1  https://www.amazon.com/Bernhard-Products-Ticki...  \n2  https://www.amazon.com/Infinity-Instruments-Or...  \n3  https://www.amazon.com/Seiko-Pendulum-Schoolho...  \n4  https://www.amazon.com/Umbra-Ribbon-Clock-Stai...  \n5  https://www.wayfair.com/decor-pillows/pdp/lati...  \n6  https://www.wayfair.com/decor-pillows/pdp/over...  ",
      "text/html": "<div>\n<style scoped>\n    .dataframe tbody tr th:only-of-type {\n        vertical-align: middle;\n    }\n\n    .dataframe tbody tr th {\n        vertical-align: top;\n    }\n\n    .dataframe thead th {\n        text-align: right;\n    }\n</style>\n<table border=\"1\" class=\"dataframe\">\n  <thead>\n    <tr style=\"text-align: right;\">\n      <th></th>\n      <th>Name</th>\n      <th>Cat</th>\n      <th>Source</th>\n      <th>Link</th>\n    </tr>\n  </thead>\n  <tbody>\n    <tr>\n      <th>0</th>\n      <td>La Crosse Technology 14-Inch Atomic Wall Clock</td>\n      <td>Best Overall</td>\n      <td>amazon</td>\n      <td>https://www.amazon.com/Crosse-Technology-WT-31...</td>\n    </tr>\n    <tr>\n      <th>1</th>\n      <td>Bernhard Products 10-Inch Black Wall Clock</td>\n      <td>Best Budget</td>\n      <td>amazon</td>\n      <td>https://www.amazon.com/Bernhard-Products-Ticki...</td>\n    </tr>\n    <tr>\n      <th>2</th>\n      <td>Infinity Instruments Orange Retro Wall Clock</td>\n      <td>Best for the Office</td>\n      <td>amazon</td>\n      <td>https://www.amazon.com/Infinity-Instruments-Or...</td>\n    </tr>\n    <tr>\n      <th>3</th>\n      <td>Seiko Wall Pendulum Schoolhouse Clock</td>\n      <td>Best for the Kitchen</td>\n      <td>amazon</td>\n      <td>https://www.amazon.com/Seiko-Pendulum-Schoolho...</td>\n    </tr>\n    <tr>\n      <th>4</th>\n      <td>Umbra Ribbon Wall Clock</td>\n      <td>Best for the Dining Room</td>\n      <td>amazon</td>\n      <td>https://www.amazon.com/Umbra-Ribbon-Clock-Stai...</td>\n    </tr>\n    <tr>\n      <th>5</th>\n      <td>Latitude Run Soltis 16\" Wall Clock at Wayfair</td>\n      <td>Best for Living Room</td>\n      <td>link</td>\n      <td>https://www.wayfair.com/decor-pillows/pdp/lati...</td>\n    </tr>\n    <tr>\n      <th>6</th>\n      <td>Laurel Foundry Modern Farmhouse 30\" Wall Clock...</td>\n      <td>Best for Bathroom</td>\n      <td>link</td>\n      <td>https://www.wayfair.com/decor-pillows/pdp/over...</td>\n    </tr>\n  </tbody>\n</table>\n</div>"
     },
     "metadata": {},
     "execution_count": 9
    }
   ],
   "source": [
    "get_table_spruce(\"clocks\")\n",
    "#Adding a comment \n"
   ]
  },
  {
   "cell_type": "code",
   "execution_count": null,
   "metadata": {},
   "outputs": [],
   "source": []
  },
  {
   "cell_type": "code",
   "execution_count": null,
   "metadata": {},
   "outputs": [],
   "source": []
  }
 ],
 "metadata": {
  "language_info": {
   "codemirror_mode": {
    "name": "ipython",
    "version": 3
   },
   "file_extension": ".py",
   "mimetype": "text/x-python",
   "name": "python",
   "nbconvert_exporter": "python",
   "pygments_lexer": "ipython3",
   "version": 3
  },
  "orig_nbformat": 2,
  "kernelspec": {
   "name": "python_defaultSpec_1595616278076",
   "display_name": "Python 3.6.10 64-bit ('game_3': conda)"
  }
 },
 "nbformat": 4,
 "nbformat_minor": 2
}