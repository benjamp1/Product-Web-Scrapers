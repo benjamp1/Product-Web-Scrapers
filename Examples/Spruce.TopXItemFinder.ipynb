{
 "cells": [
  {
   "cell_type": "markdown",
   "metadata": {},
   "source": [
    "# Content & Image Trawling \n",
    "## <i> Using Spruce </i> \n",
    "## version 1.0 "
   ]
  },
  {
   "cell_type": "code",
   "execution_count": 11,
   "metadata": {},
   "outputs": [],
   "source": [
    "#Note this currently is not used\n",
    "sites = {\"TomsHW\":\"http://Tomshardware.Com\", \"CNET\":\"http://cnet.com\",\"Verge\":\"http://TheVerge.com\"}"
   ]
  },
  {
   "cell_type": "code",
   "execution_count": 12,
   "metadata": {},
   "outputs": [],
   "source": [
    "from bs4 import BeautifulSoup\n",
    "import requests\n",
    "import pandas as pd\n",
    "\n",
    "def toms_search(search_term): \n",
    "    url = \"http://TomsHardware.com\"\n",
    "\n",
    "    #Build out toms hardwar URL \n",
    "    #   Example for washing machines: https://www.tomshardware.com/search?searchTerm=Washing+Machine\n",
    "\n",
    "    search_term = search_term.replace(\" \", \"+\")\n",
    "    search_term = url + \"/search?searchTerm=\" + search_term \n",
    "    return search_term \n",
    "\n",
    "def spruce_search_bestlinks(search_term): \n",
    "    ## Example: https://www.thespruce.com/search?q=Washing%20Machine&offset=24\n",
    "    url = 'https://www.thespruce.com/'\n",
    "    search_term = search_term.replace(\" \", \"+\")\n",
    "    search_url = url + \"/search?q=\" + search_term \n",
    "\n",
    "    #Pull out the search results \n",
    "    src = requests.get(search_url).text \n",
    "    soup = BeautifulSoup(src, 'html.parser')\n",
    "\n",
    "    link_list = []\n",
    "    for item in  soup.find_all(\"div\", {\"class\": \"comp search-layout-container mntl-block\"}):\n",
    "        for link in item.find_all('a'):\n",
    "            link_list.append(link.get('href')) \n",
    "    \n",
    "    #\"the 'best' reviews will start with /best-\n",
    "    search_list = []\n",
    "    for link in link_list:\n",
    "        if ('/best-' in str(link).lower()): search_list.append(link)\n",
    "\n",
    "\n",
    "    return search_list  \n",
    "    #Look for something like \"The XXX Best <Search Term>s of 2020\"\n",
    "    #   This will return results in 24 blocks\n",
    "    #   Next page is like https://www.thespruce.com/search?q=Washing%20Machine&offset=24 \n",
    "\n",
    "def spruce_search_top_pics(search_url_spruce):\n",
    "    src = requests.get(search_url_spruce).text \n",
    "    soup = BeautifulSoup(src, 'html.parser')\n",
    "    #The \"Our Top Pics are in the class: 'comp mntl-sc-block-callout-body mntl-text-block'\"\n",
    "    item_cat=[]\n",
    "    item_name=[]\n",
    "    item_source=[]\n",
    "    item_link=[]\n",
    "    \n",
    "\n",
    "    #Print out the title \n",
    "    try:\n",
    "        print (soup.find_all('h1')[0].text)\n",
    "    except: \n",
    "        print (\"No Title Found\")\n",
    "\n",
    "    for item in  soup.find_all(\"div\", {\"class\": \"comp mntl-sc-block-callout-body mntl-text-block\"}):\n",
    "        #The category is in the \"Strong\"\n",
    "        #print (\"Looking for the top categoies\")\n",
    "        try: \n",
    "            for strong in item.find_all('strong'): \n",
    "                #\"this is the \"Best for\" category\n",
    "                item_str = str(strong.contents[0])\n",
    "                #So these cateogies tend to start with \"Best\"\n",
    "                if 'best' in item_str.lower():\n",
    "                    item_str   = item_str.replace(\":\",\"\")\n",
    "                    item_cat.append(item_str)\n",
    "        except: print(\"No Strong contents found\")\n",
    "        #Look for the affilate link\n",
    "        #print(\"Looking for links\")\n",
    "        try: \n",
    "            for link in (item.find_all('a', href=True, attrs={'data-source':'affiliate'}) + \n",
    "            item.find_all('a', href=True, attrs={'data-source':'inlineLink'})):\n",
    "                        #print('------------')\n",
    "                        #print(link)\n",
    "                        #print(link.contents[0])\n",
    "                        #Add the name, remove 'at Amazon' if it is there\n",
    "                        item_name.append(str(link.contents[0]).replace(\"at Amazon\", \"\"))\n",
    "                        #print(link['href'])\n",
    "                        #Add their affilate link\n",
    "                        item_link.append(link['href'])\n",
    "                        #Att the source \n",
    "                        item_source.append(link['data-component'])\n",
    "        except: print(\"Nothing found\")\n",
    "    #Only get as many cats as they are \n",
    "    cat_count = len(item_cat)\n",
    "    data = {'Name':item_name[0:cat_count-1],\n",
    "            'Cat':item_cat[0:cat_count-1],\n",
    "            'Source':item_source[0:cat_count-1],\n",
    "            'Link':item_link[0:cat_count-1]} \n",
    "    #df = pd.DataFrame(data)\n",
    "    return pd.DataFrame(data)\n",
    "   # return data\n",
    "\n",
    "def get_table_spruce(item_name): \n",
    "    try:\n",
    "        top_link = spruce_search_bestlinks(item_name)[0]\n",
    "        df = spruce_search_top_pics(top_link)\n",
    "    except: \n",
    "        print (\"Didn't find anything\")\n",
    "        return  \n",
    "    return df"
   ]
  },
  {
   "cell_type": "markdown",
   "metadata": {},
   "source": [
    "## Examples on how to use the tools \n",
    "### Get the URL's with `spruce_search_bestlinks`\n",
    " "
   ]
  },
  {
   "cell_type": "code",
   "execution_count": 13,
   "metadata": {
    "tags": []
   },
   "outputs": [
    {
     "output_type": "execute_result",
     "data": {
      "text/plain": "['https://www.thespruce.com/best-doorbell-cameras-4147384',\n 'https://www.thespruce.com/best-home-security-companies-4692680',\n 'https://www.thespruce.com/best-wireless-doorbells-4178455',\n 'https://www.thespruce.com/best-diy-home-security-systems-4143582',\n 'https://www.thespruce.com/best-science-toys-4150533']"
     },
     "metadata": {},
     "execution_count": 13
    }
   ],
   "source": [
    "#For example. Lets look for the best doorbell cams \n",
    "search_list = spruce_search_bestlinks('doorbell camera')\n",
    "search_list "
   ]
  },
  {
   "cell_type": "markdown",
   "metadata": {},
   "source": [
    "## Get the top pics (where cateogies exist) with `spruce_search_bestlinks`"
   ]
  },
  {
   "cell_type": "code",
   "execution_count": 14,
   "metadata": {
    "tags": []
   },
   "outputs": [
    {
     "output_type": "stream",
     "name": "stdout",
     "text": "The 7 Best Trivia Games of 2020\n"
    },
    {
     "output_type": "execute_result",
     "data": {
      "text/plain": "                             Name                        Cat  Source  \\\n0                      Smart Ass            Best for Groups   amazon   \n1                Trivial Pursuit               Best Classic   amazon   \n2  Professor Noggin's Card Games              Best for Kids   amazon   \n3            Best of TV & Movies   Best TV and Movie Trivia   amazon   \n4   iKNOW Innovative Trivia Game              Best Strategy   amazon   \n\n                                                Link  \n0  https://www.amazon.com/University-Games-1360-S...  \n1  https://www.amazon.com/Trivial-Pursuit-Game-Cl...  \n2  https://www.amazon.com/Professor-Noggins-Histo...  \n3  https://www.amazon.com/Spin-Master-Games-Movie...  \n4  https://www.amazon.com/Tactic-Games-US-52658-I...  ",
      "text/html": "<div>\n<style scoped>\n    .dataframe tbody tr th:only-of-type {\n        vertical-align: middle;\n    }\n\n    .dataframe tbody tr th {\n        vertical-align: top;\n    }\n\n    .dataframe thead th {\n        text-align: right;\n    }\n</style>\n<table border=\"1\" class=\"dataframe\">\n  <thead>\n    <tr style=\"text-align: right;\">\n      <th></th>\n      <th>Name</th>\n      <th>Cat</th>\n      <th>Source</th>\n      <th>Link</th>\n    </tr>\n  </thead>\n  <tbody>\n    <tr>\n      <th>0</th>\n      <td>Smart Ass</td>\n      <td>Best for Groups</td>\n      <td>amazon</td>\n      <td>https://www.amazon.com/University-Games-1360-S...</td>\n    </tr>\n    <tr>\n      <th>1</th>\n      <td>Trivial Pursuit</td>\n      <td>Best Classic</td>\n      <td>amazon</td>\n      <td>https://www.amazon.com/Trivial-Pursuit-Game-Cl...</td>\n    </tr>\n    <tr>\n      <th>2</th>\n      <td>Professor Noggin's Card Games</td>\n      <td>Best for Kids</td>\n      <td>amazon</td>\n      <td>https://www.amazon.com/Professor-Noggins-Histo...</td>\n    </tr>\n    <tr>\n      <th>3</th>\n      <td>Best of TV &amp; Movies</td>\n      <td>Best TV and Movie Trivia</td>\n      <td>amazon</td>\n      <td>https://www.amazon.com/Spin-Master-Games-Movie...</td>\n    </tr>\n    <tr>\n      <th>4</th>\n      <td>iKNOW Innovative Trivia Game</td>\n      <td>Best Strategy</td>\n      <td>amazon</td>\n      <td>https://www.amazon.com/Tactic-Games-US-52658-I...</td>\n    </tr>\n  </tbody>\n</table>\n</div>"
     },
     "metadata": {},
     "execution_count": 14
    }
   ],
   "source": [
    "spruce_search_top_pics('https://www.thespruce.com/best-trivia-games-4164628')"
   ]
  },
  {
   "cell_type": "markdown",
   "metadata": {},
   "source": [
    "## Get the table with a search term with `get_table_spruce`"
   ]
  },
  {
   "cell_type": "code",
   "execution_count": 15,
   "metadata": {
    "tags": []
   },
   "outputs": [
    {
     "output_type": "stream",
     "name": "stdout",
     "text": "The 8 Best Doorbell Cameras of 2020\n"
    },
    {
     "output_type": "execute_result",
     "data": {
      "text/plain": "                                                Name  \\\n0                             Ring Video Doorbell 3    \n1              Ring Video Doorbell Pro at Home Depot   \n2  Google Nest Hello Smart WiFi Video Doorbell at...   \n3                      Arlo Video Doorbell at Target   \n4          SimpliSafe Video Doorbell Pro at Best Buy   \n5          Eufy Security Video Doorbell at Eufy Life   \n6     RemoBell S Smart Doorbell Camera at Home Depot   \n\n                        Cat  Source  \\\n0             Best Overall   amazon   \n1                Best WiFi     link   \n2            Best Wireless     link   \n3    Best Motion Detection     link   \n4       Best with Security     link   \n5             Best Privacy     link   \n6  Best Smart Home-Enabled     link   \n\n                                                Link  \n0  https://www.amazon.com/dp/B0849J7W5X/?tag=thes...  \n1  https://www.homedepot.com/p/Ring-1080P-HD-Wi-F...  \n2  https://www.homedepot.com/p/Google-Nest-Hello-...  \n3  https://www.target.com/p/arlo-video-doorbell/-...  \n4  https://www.bestbuy.com/site/simplisafe-pro-vi...  \n5  https://www.eufylife.com/products/variant/vide...  \n6  https://www.homedepot.com/p/remo-RemoBell-S-Sm...  ",
      "text/html": "<div>\n<style scoped>\n    .dataframe tbody tr th:only-of-type {\n        vertical-align: middle;\n    }\n\n    .dataframe tbody tr th {\n        vertical-align: top;\n    }\n\n    .dataframe thead th {\n        text-align: right;\n    }\n</style>\n<table border=\"1\" class=\"dataframe\">\n  <thead>\n    <tr style=\"text-align: right;\">\n      <th></th>\n      <th>Name</th>\n      <th>Cat</th>\n      <th>Source</th>\n      <th>Link</th>\n    </tr>\n  </thead>\n  <tbody>\n    <tr>\n      <th>0</th>\n      <td>Ring Video Doorbell 3</td>\n      <td>Best Overall</td>\n      <td>amazon</td>\n      <td>https://www.amazon.com/dp/B0849J7W5X/?tag=thes...</td>\n    </tr>\n    <tr>\n      <th>1</th>\n      <td>Ring Video Doorbell Pro at Home Depot</td>\n      <td>Best WiFi</td>\n      <td>link</td>\n      <td>https://www.homedepot.com/p/Ring-1080P-HD-Wi-F...</td>\n    </tr>\n    <tr>\n      <th>2</th>\n      <td>Google Nest Hello Smart WiFi Video Doorbell at...</td>\n      <td>Best Wireless</td>\n      <td>link</td>\n      <td>https://www.homedepot.com/p/Google-Nest-Hello-...</td>\n    </tr>\n    <tr>\n      <th>3</th>\n      <td>Arlo Video Doorbell at Target</td>\n      <td>Best Motion Detection</td>\n      <td>link</td>\n      <td>https://www.target.com/p/arlo-video-doorbell/-...</td>\n    </tr>\n    <tr>\n      <th>4</th>\n      <td>SimpliSafe Video Doorbell Pro at Best Buy</td>\n      <td>Best with Security</td>\n      <td>link</td>\n      <td>https://www.bestbuy.com/site/simplisafe-pro-vi...</td>\n    </tr>\n    <tr>\n      <th>5</th>\n      <td>Eufy Security Video Doorbell at Eufy Life</td>\n      <td>Best Privacy</td>\n      <td>link</td>\n      <td>https://www.eufylife.com/products/variant/vide...</td>\n    </tr>\n    <tr>\n      <th>6</th>\n      <td>RemoBell S Smart Doorbell Camera at Home Depot</td>\n      <td>Best Smart Home-Enabled</td>\n      <td>link</td>\n      <td>https://www.homedepot.com/p/remo-RemoBell-S-Sm...</td>\n    </tr>\n  </tbody>\n</table>\n</div>"
     },
     "metadata": {},
     "execution_count": 15
    }
   ],
   "source": [
    "get_table_spruce(\"doorbell camera\")"
   ]
  },
  {
   "cell_type": "markdown",
   "metadata": {},
   "source": [
    "## Note: `spruce_search_top_pics` will return a `Pandas` dataframe:"
   ]
  },
  {
   "cell_type": "code",
   "execution_count": 17,
   "metadata": {
    "tags": []
   },
   "outputs": [
    {
     "output_type": "stream",
     "name": "stdout",
     "text": "The 8 Best Doorbell Cameras of 2020\n"
    },
    {
     "output_type": "execute_result",
     "data": {
      "text/plain": "                                                Name  \\\n0                             Ring Video Doorbell 3    \n1              Ring Video Doorbell Pro at Home Depot   \n2  Google Nest Hello Smart WiFi Video Doorbell at...   \n3                      Arlo Video Doorbell at Target   \n4          SimpliSafe Video Doorbell Pro at Best Buy   \n5          Eufy Security Video Doorbell at Eufy Life   \n6     RemoBell S Smart Doorbell Camera at Home Depot   \n\n                        Cat  Source  \\\n0             Best Overall   amazon   \n1                Best WiFi     link   \n2            Best Wireless     link   \n3    Best Motion Detection     link   \n4       Best with Security     link   \n5             Best Privacy     link   \n6  Best Smart Home-Enabled     link   \n\n                                                Link  \n0  https://www.amazon.com/dp/B0849J7W5X/?tag=thes...  \n1  https://www.homedepot.com/p/Ring-1080P-HD-Wi-F...  \n2  https://www.homedepot.com/p/Google-Nest-Hello-...  \n3  https://www.target.com/p/arlo-video-doorbell/-...  \n4  https://www.bestbuy.com/site/simplisafe-pro-vi...  \n5  https://www.eufylife.com/products/variant/vide...  \n6  https://www.homedepot.com/p/remo-RemoBell-S-Sm...  ",
      "text/html": "<div>\n<style scoped>\n    .dataframe tbody tr th:only-of-type {\n        vertical-align: middle;\n    }\n\n    .dataframe tbody tr th {\n        vertical-align: top;\n    }\n\n    .dataframe thead th {\n        text-align: right;\n    }\n</style>\n<table border=\"1\" class=\"dataframe\">\n  <thead>\n    <tr style=\"text-align: right;\">\n      <th></th>\n      <th>Name</th>\n      <th>Cat</th>\n      <th>Source</th>\n      <th>Link</th>\n    </tr>\n  </thead>\n  <tbody>\n    <tr>\n      <th>0</th>\n      <td>Ring Video Doorbell 3</td>\n      <td>Best Overall</td>\n      <td>amazon</td>\n      <td>https://www.amazon.com/dp/B0849J7W5X/?tag=thes...</td>\n    </tr>\n    <tr>\n      <th>1</th>\n      <td>Ring Video Doorbell Pro at Home Depot</td>\n      <td>Best WiFi</td>\n      <td>link</td>\n      <td>https://www.homedepot.com/p/Ring-1080P-HD-Wi-F...</td>\n    </tr>\n    <tr>\n      <th>2</th>\n      <td>Google Nest Hello Smart WiFi Video Doorbell at...</td>\n      <td>Best Wireless</td>\n      <td>link</td>\n      <td>https://www.homedepot.com/p/Google-Nest-Hello-...</td>\n    </tr>\n    <tr>\n      <th>3</th>\n      <td>Arlo Video Doorbell at Target</td>\n      <td>Best Motion Detection</td>\n      <td>link</td>\n      <td>https://www.target.com/p/arlo-video-doorbell/-...</td>\n    </tr>\n    <tr>\n      <th>4</th>\n      <td>SimpliSafe Video Doorbell Pro at Best Buy</td>\n      <td>Best with Security</td>\n      <td>link</td>\n      <td>https://www.bestbuy.com/site/simplisafe-pro-vi...</td>\n    </tr>\n    <tr>\n      <th>5</th>\n      <td>Eufy Security Video Doorbell at Eufy Life</td>\n      <td>Best Privacy</td>\n      <td>link</td>\n      <td>https://www.eufylife.com/products/variant/vide...</td>\n    </tr>\n    <tr>\n      <th>6</th>\n      <td>RemoBell S Smart Doorbell Camera at Home Depot</td>\n      <td>Best Smart Home-Enabled</td>\n      <td>link</td>\n      <td>https://www.homedepot.com/p/remo-RemoBell-S-Sm...</td>\n    </tr>\n  </tbody>\n</table>\n</div>"
     },
     "metadata": {},
     "execution_count": 17
    }
   ],
   "source": [
    "dataFrame = spruce_search_top_pics('https://www.thespruce.com/best-doorbell-cameras-4147384')\n",
    "dataFrame"
   ]
  },
  {
   "cell_type": "code",
   "execution_count": null,
   "metadata": {},
   "outputs": [],
   "source": []
  }
 ],
 "metadata": {
  "language_info": {
   "codemirror_mode": {
    "name": "ipython",
    "version": 3
   },
   "file_extension": ".py",
   "mimetype": "text/x-python",
   "name": "python",
   "nbconvert_exporter": "python",
   "pygments_lexer": "ipython3",
   "version": 3
  },
  "orig_nbformat": 2,
  "kernelspec": {
   "name": "python_defaultSpec_1595616278076",
   "display_name": "Python 3.6.10 64-bit ('game_3': conda)"
  }
 },
 "nbformat": 4,
 "nbformat_minor": 2
}